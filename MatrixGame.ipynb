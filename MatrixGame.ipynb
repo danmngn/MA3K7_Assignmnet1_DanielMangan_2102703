{
 "cells": [
  {
   "cell_type": "code",
   "execution_count": 3,
   "id": "288499ea",
   "metadata": {},
   "outputs": [
    {
     "name": "stdout",
     "output_type": "stream",
     "text": [
      "The determinant of the matrix is 0.0\n",
      "The determinant of the matrix is 0.0\n",
      "The determinant of the matrix is 0.0\n",
      "The determinant of the matrix is 0.0\n",
      "The determinant of the matrix is 0.0\n",
      "The determinant of the matrix is 0.0\n",
      "The determinant of the matrix is 0.0\n",
      "The determinant of the matrix is 1.0\n",
      "The determinant of the matrix is 0.0\n",
      "The determinant of the matrix is 1.0\n",
      "The determinant of the matrix is 0.0\n"
     ]
    }
   ],
   "source": [
    "import numpy as np\n",
    "\n",
    "def Det(matrix):\n",
    "    return np.linalg.det(matrix)\n",
    "\n",
    "Mat_1 = np.array([[0,0],\n",
    "                  [1,1]])\n",
    "Mat_2 = np.array([[0,1],\n",
    "                  [0,1]])\n",
    "Mat_3 = np.array([[0,0,1],\n",
    "                  [1,0,0],\n",
    "                  [0,0,1]])\n",
    "Mat_4 = np.array([[1,0,0],\n",
    "                  [1,0,0],\n",
    "                  [0,1,1]])\n",
    "Mat_5 = np.array([[1,1,0],\n",
    "                  [0,0,1],\n",
    "                  [0,0,1]])\n",
    "Mat_6 = np.array([[0,0,1],\n",
    "                  [1,1,1],\n",
    "                  [0,0,1]])\n",
    "Mat_7 = np.array([[1,1,1],\n",
    "                  [1,0,0],\n",
    "                  [1,0,0]])\n",
    "Mat_8 = np.array([[0,1,0],\n",
    "                  [1,0,1],\n",
    "                  [1,1,0]])\n",
    "Mat_9 = np.array([[0,0,1,0],\n",
    "                  [1,1,1,0],\n",
    "                  [0,0,1,1],\n",
    "                  [1,1,0,0]])\n",
    "Mat_10 = np.array([[0,1,1,1],\n",
    "                   [0,1,0,0],\n",
    "                   [0,0,0,1],\n",
    "                   [1,1,0,1]])\n",
    "Mat_11 = np.array([[1,1,1],\n",
    "                   [0,1,0],\n",
    "                   [0,1,0]])\n",
    "\n",
    "print(\"The determinant of the matrix is\", Det(Mat_1))\n",
    "print(\"The determinant of the matrix is\", Det(Mat_2))\n",
    "print(\"The determinant of the matrix is\", Det(Mat_3))\n",
    "print(\"The determinant of the matrix is\", Det(Mat_4))\n",
    "print(\"The determinant of the matrix is\", Det(Mat_5))\n",
    "print(\"The determinant of the matrix is\", Det(Mat_6))\n",
    "print(\"The determinant of the matrix is\", Det(Mat_7))\n",
    "print(\"The determinant of the matrix is\", Det(Mat_8))\n",
    "print(\"The determinant of the matrix is\", Det(Mat_9))\n",
    "print(\"The determinant of the matrix is\", Det(Mat_10))\n",
    "print(\"The determinant of the matrix is\", Det(Mat_11))\n"
   ]
  },
  {
   "cell_type": "code",
   "execution_count": null,
   "id": "8f999cff",
   "metadata": {},
   "outputs": [],
   "source": []
  }
 ],
 "metadata": {
  "kernelspec": {
   "display_name": "Python 3 (ipykernel)",
   "language": "python",
   "name": "python3"
  },
  "language_info": {
   "codemirror_mode": {
    "name": "ipython",
    "version": 3
   },
   "file_extension": ".py",
   "mimetype": "text/x-python",
   "name": "python",
   "nbconvert_exporter": "python",
   "pygments_lexer": "ipython3",
   "version": "3.11.5"
  }
 },
 "nbformat": 4,
 "nbformat_minor": 5
}
